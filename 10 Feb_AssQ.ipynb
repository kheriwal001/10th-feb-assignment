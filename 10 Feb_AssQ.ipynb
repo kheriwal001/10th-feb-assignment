{
 "cells": [
  {
   "cell_type": "code",
   "execution_count": null,
   "id": "5b9e5098-8913-4bf4-af9f-52d41cc60a00",
   "metadata": {},
   "outputs": [],
   "source": [
    "Q.1>  Which function is used to open a file? What are the different modes of opening a file? Explain each mode \n",
    "      of file opening\n",
    "Ans> The built-in open() function is used to open a file in Python. The function takes two required parameters: \n",
    "     the name of the file and the mode in which you want to open the file.\n",
    "        \n",
    "     Here are the different modes of file opening:\n",
    "\n",
    "     1. 'r' (Read Only): This is the default mode. It opens the file for reading and the pointer is placed \n",
    "         at the beginning of the file. If the file does not exist, an error is raised.\n",
    "\n",
    "     2. 'w' (Write Only): This mode opens the file for writing. If the file already exists, its contents \n",
    "         are truncated, and if it does not exist, a new file is created.\n",
    "\n",
    "     3. 'a' (Append Only): This mode opens the file for writing but the pointer is placed at the end of \n",
    "        the file. If the file does not exist, a new file is created.\n",
    "\n",
    "     4. 'x' (Exclusive Creation): This mode opens the file for writing but raises a FileExistsError if \n",
    "        the file already exists.\n",
    "\n",
    "     5. 'b' (Binary): This mode opens the file in binary mode, which is used for non-text files like \n",
    "        images and audio files.\n",
    "\n",
    "     6. 't' (Text): This mode opens the file in text mode (default)."
   ]
  },
  {
   "cell_type": "code",
   "execution_count": null,
   "id": "de403f49-ebcc-4e48-b690-71a986580c81",
   "metadata": {},
   "outputs": [],
   "source": [
    "Q.2> Why close() function is used? Why is it important to close a file?\n",
    "Ans> The close() function is used to close a file in Python. Closing a file is an important step because \n",
    "     it ensures that all changes made to the file are saved and the resources used by the file are released.\n",
    "\n",
    "     When you open a file, the operating system reserves memory and other resources for the file so that you \n",
    "     can read from or write to the file. If you don't close the file, the resources used by the file will not \n",
    "     be released, which can cause performance problems and memory leaks. In some cases, it can also result in \n",
    "     data loss or corruption, because the file may still be open and being used by another process even after \n",
    "     your program has finished executing.\n",
    "     To avoid these problems, it's a best practice to use the close() function."
   ]
  },
  {
   "cell_type": "code",
   "execution_count": 1,
   "id": "fb4bb01f-678a-4a44-8d93-183818a15b7c",
   "metadata": {},
   "outputs": [
    {
     "name": "stdout",
     "output_type": "stream",
     "text": [
      "I want to become a Data Scientist\n"
     ]
    }
   ],
   "source": [
    "'''Q.3> Write a python program to create a text file. Write ‘I want to become a Data Scientist’ in that file. Then \n",
    "     close the file. Open this file and read the content of the file.'''\n",
    "# Create a text file and write to it\n",
    "with open(\"textfile.txt\", \"w\") as file:\n",
    "    file.write(\"I want to become a Data Scientist\")\n",
    "\n",
    "# Read the contents of the file\n",
    "with open(\"textfile.txt\", \"r\") as file:\n",
    "    content = file.read()\n",
    "    print(content)\n"
   ]
  },
  {
   "cell_type": "code",
   "execution_count": null,
   "id": "b9ac45d9-a0cb-45f9-a25a-d8dc0f395be6",
   "metadata": {},
   "outputs": [],
   "source": [
    "Q.4>  Explain the following with python code: read(), readline() and readlines().\n",
    "Ans> In Python, the read(), readline(), and readlines() methods are used to read data from a file.\n",
    "\n",
    "     read(): The read() method reads the entire contents of a file and returns them as a single string.Here's an example:\n",
    "     with open(\"textfile.txt\", \"r\") as file:\n",
    "            content = file.read()\n",
    "            print(content)\n",
    "            \n",
    "     readline(): The readline() method reads a single line of the file at a time and returns it as a string.Here's an example:\n",
    "     with open(\"textfile.txt\", \"r\") as file:\n",
    "            line = file.readline()\n",
    "            while line:\n",
    "                print(line)\n",
    "                line = file.readline()\n",
    "         \n",
    "     readlines(): The readlines() method reads the entire contents of a file and returns them as a list of strings,\n",
    "     where each string is a line of the file. Here's an example:\n",
    "        with open(\"textfile.txt\", \"r\") as file:\n",
    "            lines = file.readlines()\n",
    "        for line in lines:\n",
    "            print(line)\n",
    "    "
   ]
  },
  {
   "cell_type": "code",
   "execution_count": null,
   "id": "cc342a4b-b42c-41e3-8bdf-622e1bfa1294",
   "metadata": {},
   "outputs": [],
   "source": [
    "Q.5> Explain why with statement is used with open(). What is the advantage of using with statement and \n",
    "     open() together?\n",
    "Ans> The with statement is used in Python to manage the lifetime of an object, such as a file, and to \n",
    "     ensure that the object is properly cleaned up when it's no longer needed. The with statement is \n",
    "     especially useful when working with files, as it automatically closes the file when the block of \n",
    "     code within the with statement is exited, even if an exception occurs.\n",
    "\n",
    "     When you use the open() function to open a file, it's important to close the file when you're done \n",
    "     with it. If you don't close the file, it can result in data loss or corruption, as well as leaving \n",
    "     the file locked and unable to be used by other processes.\n",
    "\n",
    "     The with statement provides a convenient and error-proof way to open a file and ensure that it is \n",
    "     properly closed, without having to remember to close it yourself. The with statement creates a context \n",
    "     in which the file is automatically closed after the block of code within the with statement is executed   "
   ]
  },
  {
   "cell_type": "code",
   "execution_count": null,
   "id": "1f1705f8-5ca3-4d8d-80d2-2e3deabda57d",
   "metadata": {},
   "outputs": [],
   "source": [
    "Q.6> Explain the write() and writelines() functions. Give a suitable example.\n",
    "Ans> write(): The write() function is used to write a single string to a file. Here's an example:\n",
    "     with open(\"textfile.txt\", \"w\") as file:\n",
    "        file.write(\"I want to become a Data Scientist\")\n",
    "         \n",
    "     writelines(): The writelines() function is used to write a list of strings to a file. Here's an example:\n",
    "        lines = [\"I want to become a Data Scientist\", \"Data Science is a great field\"]\n",
    "        with open(\"textfile.txt\", \"w\") as file:\n",
    "            file.writelines(lines)\n",
    "\n"
   ]
  }
 ],
 "metadata": {
  "kernelspec": {
   "display_name": "Python 3 (ipykernel)",
   "language": "python",
   "name": "python3"
  },
  "language_info": {
   "codemirror_mode": {
    "name": "ipython",
    "version": 3
   },
   "file_extension": ".py",
   "mimetype": "text/x-python",
   "name": "python",
   "nbconvert_exporter": "python",
   "pygments_lexer": "ipython3",
   "version": "3.10.8"
  }
 },
 "nbformat": 4,
 "nbformat_minor": 5
}
